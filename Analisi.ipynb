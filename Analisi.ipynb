{
 "cells": [
  {
   "metadata": {},
   "cell_type": "markdown",
   "source": "# Elden Wiki: Analisi del Progetto",
   "id": "8aa54e9c47ebf25a"
  },
  {
   "metadata": {},
   "cell_type": "markdown",
   "source": "## Descrizione del Progetto",
   "id": "e062bf33fbb183a"
  },
  {
   "metadata": {},
   "cell_type": "markdown",
   "source": [
    "Il progetto, chiamato **\"Elden Wiki\"**, è una piattaforma informativa dedicata al videogioco *Elden Ring*.\n",
    "L\\'obiettivo principale è fornire agli utenti una risorsa centralizzata e strutturata che includa:\n",
    "\n",
    "- **Lore (Storia):** Narrazione completa del mondo di gioco, personaggi, eventi e mitologia.\n",
    "- **Guida al completamento del gioco:** Una sezione step-by-step per aiutare i giocatori a completare missioni, battere boss, e raggiungere il finale del gioco.\n",
    "- **Dettagli su armi e oggetti:** Informazioni approfondite su equipaggiamenti, oggetti rari, e come trovarli nel gioco.\n"
   ],
   "id": "783fd1f773a7a1c7"
  },
  {
   "metadata": {},
   "cell_type": "markdown",
   "source": "### Caratteristiche distintive",
   "id": "34103e4e19d6422a"
  },
  {
   "metadata": {},
   "cell_type": "markdown",
   "source": [
    "- Accesso ai contenuti riservato agli utenti registrati.\n",
    "- Design ispirato a modelli enciclopedici come Wikipedia, ma con una personalizzazione specifica per *Elden Ring*."
   ],
   "id": "a3868b5e279539e2"
  },
  {
   "metadata": {},
   "cell_type": "markdown",
   "source": "### Estensioni future",
   "id": "a8a095df8d5f589c"
  },
  {
   "metadata": {},
   "cell_type": "markdown",
   "source": "- Una sezione personalizzata per mostrare l\\'inventario dell\\'utente, come le armi possedute.",
   "id": "67ad2aba68915594"
  },
  {
   "metadata": {},
   "cell_type": "markdown",
   "source": "---",
   "id": "21e855d53d7e6fb5"
  },
  {
   "metadata": {},
   "cell_type": "markdown",
   "source": "## Struttura del Sito",
   "id": "847fd297dc2a89db"
  },
  {
   "metadata": {},
   "cell_type": "markdown",
   "source": "### Home Page",
   "id": "aff1337d597530dc"
  },
  {
   "metadata": {},
   "cell_type": "markdown",
   "source": [
    "- Punto di accesso iniziale al sito con opzioni di:\n",
    "  - **Registrazione (Sign Up)**\n",
    "  - **Login**\n",
    "  - Una pagina \"Contattaci\" per richieste generali.\n",
    "- Nessun contenuto visibile senza autenticazione."
   ],
   "id": "cc2d14805365f53d"
  },
  {
   "metadata": {},
   "cell_type": "markdown",
   "source": "### Dopo il Login",
   "id": "57c05a573ff6b09c"
  },
  {
   "metadata": {},
   "cell_type": "markdown",
   "source": [
    "- L\\'utente accede a una pagina profilo che funge da hub per navigare tra:\n",
    "  - Lore del gioco.\n",
    "  - Guida.\n",
    "  - Dettagli su armi e oggetti.\n",
    "- Presenza di un bottone per il logout."
   ],
   "id": "55c12036faeb280f"
  },
  {
   "metadata": {},
   "cell_type": "markdown",
   "source": "### Possibili Estensioni",
   "id": "88e0ba284ae59d7e"
  },
  {
   "metadata": {},
   "cell_type": "markdown",
   "source": [
    "- Implementazione di una pagina che mostri dinamicamente le armi possedute dall\\'utente.\n",
    "- Funzionalità di ricerca avanzata con filtri per categoria o attributi specifici."
   ],
   "id": "47c49c0364926965"
  },
  {
   "metadata": {},
   "cell_type": "markdown",
   "source": "---",
   "id": "78cdc6d92fbb2c4b"
  },
  {
   "metadata": {},
   "cell_type": "markdown",
   "source": "## Analisi Tecnica",
   "id": "24a074f3163e2a24"
  },
  {
   "metadata": {},
   "cell_type": "markdown",
   "source": "### Front-End",
   "id": "c4109465f19a6acc"
  },
  {
   "metadata": {},
   "cell_type": "markdown",
   "source": [
    "- **HTML:** Struttura delle pagine con sezioni ben definite per contenuti, moduli di login e navigazione.\n",
    "- **CSS:** Personalizzazione grafica con design coerente e mobile-friendly."
   ],
   "id": "c39f6fe0e007a189"
  },
  {
   "metadata": {},
   "cell_type": "markdown",
   "source": "#### Esempio di Codice HTML/CSS:",
   "id": "8f2c5161f88da26a"
  },
  {
   "metadata": {},
   "cell_type": "markdown",
   "source": [
    "```html\n",
    "<!DOCTYPE html>\n",
    "<html lang=\"it\">\n",
    "<head>\n",
    "    <meta charset=\"UTF-8\">\n",
    "    <meta name=\"viewport\" content=\"width=device-width, initial-scale=1.0\">\n",
    "    <title>Elden Wiki - Home</title>\n",
    "</head>\n",
    "<body>\n",
    "    <header>\n",
    "        <h1>Benvenuto in Elden Wiki</h1>\n",
    "        <nav>\n",
    "            <ul>\n",
    "                <li><a href=\"login.html\">Login</a></li>\n",
    "                <li><a href=\"signup.html\">Sign Up</a></li>\n",
    "                <li><a href=\"contact.html\">Contattaci</a></li>\n",
    "            </ul>\n",
    "        </nav>\n",
    "    </header>\n",
    "</body>\n",
    "</html>\n",
    "```\n",
    "\n",
    "```css\n",
    "body {\n",
    "    font-family: Arial, sans-serif;\n",
    "    background-color: #f0f0f0;\n",
    "    margin: 0;\n",
    "    padding: 0;\n",
    "}\n",
    "\n",
    "header {\n",
    "    background-color: #333;\n",
    "    color: white;\n",
    "    padding: 15px;\n",
    "    text-align: center;\n",
    "}\n",
    "\n",
    "nav ul {\n",
    "    list-style: none;\n",
    "    padding: 0;\n",
    "}\n",
    "\n",
    "nav ul li {\n",
    "    display: inline;\n",
    "    margin: 0 10px;\n",
    "}\n",
    "\n",
    "nav ul li a {\n",
    "    color: white;\n",
    "    text-decoration: none;\n",
    "}\n",
    "```"
   ],
   "id": "3201f30772a9c55"
  },
  {
   "metadata": {},
   "cell_type": "markdown",
   "source": "### Back-End",
   "id": "96dd87aa8212dc3c"
  },
  {
   "metadata": {},
   "cell_type": "markdown",
   "source": [
    "- **PHP:**\n",
    "  - Gestisce login, registrazione, e interazione con il database.\n",
    "  - Utilizza tecniche sicure, come hash delle password.\n",
    "- **SQL:**\n",
    "  - Database relazionale per:\n",
    "    - Utenti (nome utente, email, password).\n",
    "    - Informazioni di gioco (armi, oggetti, guide).\n",
    "  - Tabelle strutturate per efficienza e relazioni ben definite."
   ],
   "id": "4e63e0c5a04c75ef"
  },
  {
   "metadata": {},
   "cell_type": "markdown",
   "source": "#### Esempio di Codice PHP:",
   "id": "a67701e021c38588"
  },
  {
   "metadata": {},
   "cell_type": "markdown",
   "source": [
    "```php\n",
    "<?php\n",
    "// Connessione al database\n",
    "$host = 'localhost';\n",
    "$dbname = 'eldenring';\n",
    "$username = 'root';\n",
    "$password = 'mysql';\n",
    "\n",
    "try {\n",
    "    $pdo = new PDO(\"mysql:host=$host;dbname=$dbname\", $username, $password);\n",
    "    $pdo->setAttribute(PDO::ATTR_ERRMODE, PDO::ERRMODE_EXCEPTION);\n",
    "} catch (PDOException $e) {\n",
    "    die(\"Errore di connessione: \" . $e->getMessage());\n",
    "}\n",
    "\n",
    "// Registrazione utente\n",
    "if ($_SERVER['REQUEST_METHOD'] == 'POST') {\n",
    "    $username = $_POST['username'];\n",
    "    $password = password_hash($_POST['password'], PASSWORD_BCRYPT);\n",
    "\n",
    "    $stmt = $pdo->prepare(\"INSERT INTO utenti (username, password) VALUES (?, ?)\");\n",
    "    $stmt->execute([$username, $password]);\n",
    "\n",
    "    echo \"Registrazione completata con successo!\";\n",
    "}\n",
    "?>\n",
    "```"
   ],
   "id": "6815c1fbd11a3678"
  },
  {
   "metadata": {},
   "cell_type": "markdown",
   "source": "#### Esempio di Struttura SQL:",
   "id": "58a68a1dc2a0968e"
  },
  {
   "metadata": {},
   "cell_type": "markdown",
   "source": [
    "```sql\n",
    "CREATE DATABASE EldenRIng;\n",
    "\n",
    "USE eldenring;\n",
    "\n",
    "-- Tabella Categorie\n",
    "CREATE TABLE Categorie\n",
    "(\n",
    "    id_categoria VARCHAR(50) PRIMARY KEY,     -- Chiave primaria per la tabella Categorie\n",
    "    nome         VARCHAR(255) NOT NULL UNIQUE -- Nome della categoria (non nullo) con unicità\n",
    ");\n",
    "\n",
    "-- Tabella TipiStatistiche\n",
    "CREATE TABLE TipiStatistiche\n",
    "(\n",
    "    id_tipo VARCHAR(50) PRIMARY KEY,     -- Chiave primaria per la tabella TipiStatistiche\n",
    "    nome    VARCHAR(255) NOT NULL UNIQUE -- Nome del tipo di statistica (non nullo) con unicità\n",
    ");\n",
    "\n",
    "-- Tabella Attributi\n",
    "CREATE TABLE Attributi\n",
    "(\n",
    "    id_attributo VARCHAR(50) PRIMARY KEY,     -- Chiave primaria per la tabella Attributi\n",
    "    nome         VARCHAR(255) NOT NULL UNIQUE -- Nome dell'attributo (non nullo) con unicità\n",
    ");\n",
    "\n",
    "-- Tabella Armi\n",
    "CREATE TABLE Armi\n",
    "(\n",
    "    id_arma      INTEGER PRIMARY KEY AUTO_INCREMENT, -- Chiave primaria autoincrementata per la tabella Armi\n",
    "    nome         VARCHAR(255)  NOT NULL,             -- Nome dell'arma (non nullo)\n",
    "    descrizione  TEXT          NOT NULL,             -- Descrizione dell'arma (non nullo)\n",
    "    immagine     VARCHAR(500)  NOT NULL,             -- URL dell'immagine dell'arma (non nullo)\n",
    "    id_categoria VARCHAR(50)   NOT NULL,             -- Riferimento alla categoria dell'arma (non nullo)\n",
    "    peso         DECIMAL(3, 1) NOT NULL,             -- Peso dell'arma (non nullo)\n",
    "    ottenimento  TEXT          NOT NULL,             -- Come ottenere l'arma (non nullo)\n",
    "    FOREIGN KEY (id_categoria)\n",
    "        REFERENCES Categorie (id_categoria)          -- Vincolo per la relazione con Categorie\n",
    ");\n",
    "\n",
    "-- Tabella Effetti_Stato\n",
    "CREATE TABLE EffettiStato\n",
    "(\n",
    "    nome                  VARCHAR(50) PRIMARY KEY, -- Nome univoco dell'effetto (es: Sanguinamento, Assideramento)\n",
    "    descrizione           TEXT NOT NULL,           -- Descrizione dettagliata dell'effetto\n",
    "    icona                 TEXT NOT NULL,           -- Link all'immagine che rappresenta l'effetto\n",
    "    mitigato_da           TEXT,                    -- Oggetti o abilità che riducono l'effetto\n",
    "    curato_da             TEXT,                    -- Oggetti o abilità che rimuovono l'effetto\n",
    "    statistica_resistente VARCHAR(50),             -- Statistica che aumenta la resistenza all'effetto\n",
    "    note                  TEXT                     -- Note aggiuntive (es: condizioni speciali)\n",
    ");\n",
    "\n",
    "-- Tabella armi_effetti\n",
    "CREATE TABLE ArmiEffetti\n",
    "(\n",
    "    id_arma      INTEGER,\n",
    "    nome_effetto VARCHAR(50),\n",
    "    valore       INTEGER NOT NULL,\n",
    "    PRIMARY KEY (id_arma, nome_effetto),\n",
    "    FOREIGN KEY (id_arma) REFERENCES armi (id_arma) ON UPDATE CASCADE,\n",
    "    FOREIGN KEY (nome_effetto) REFERENCES EffettiStato (nome) ON UPDATE CASCADE\n",
    ");\n",
    "\n",
    "-- Tabella Statistiche\n",
    "CREATE TABLE Statistiche\n",
    "(\n",
    "    id_statistica INTEGER PRIMARY KEY AUTO_INCREMENT,          -- Chiave primaria autoincrementata per la tabella Statistiche\n",
    "    id_arma       INTEGER             NOT NULL,                -- Riferimento all'arma a cui appartiene la statistica (non nullo)\n",
    "    id_tipo       VARCHAR(50)         NOT NULL,                -- Riferimento al tipo di statistica (non nullo)\n",
    "    valore        INTEGER             NOT NULL,                -- Valore della statistica (può essere nullo)\n",
    "    tipologia     enum ('ATT', 'DEF') NOT NULL,\n",
    "    FOREIGN KEY (id_arma)\n",
    "        REFERENCES Armi (id_arma) ON UPDATE CASCADE,           -- Vincolo per la relazione con Armi\n",
    "    FOREIGN KEY (id_tipo)\n",
    "        REFERENCES TipiStatistiche (id_tipo) ON UPDATE CASCADE -- Vincolo per la relazione con TipiStatistiche\n",
    ");\n",
    "\n",
    "-- Tabella Scaling\n",
    "CREATE TABLE Scaling\n",
    "(\n",
    "    id_scaling    INTEGER PRIMARY KEY AUTO_INCREMENT,           -- Chiave primaria autoincrementata per la tabella Scaling\n",
    "    id_arma       INTEGER                             NOT NULL, -- Riferimento all'arma (non nullo)\n",
    "    id_attributo  VARCHAR(50)                         NOT NULL, -- Riferimento all'attributo per il scaling (non nullo)\n",
    "    grado_scaling ENUM ('A', 'B', 'C', 'D', 'E', 'S') NOT NULL, -- Grado di scaling (obbligatorio)\n",
    "    FOREIGN KEY (id_arma)\n",
    "        REFERENCES Armi (id_arma),                              -- Vincolo per la relazione con Armi\n",
    "    FOREIGN KEY (id_attributo)\n",
    "        REFERENCES Attributi (id_attributo)                     -- Vincolo per la relazione con Attributi\n",
    ");\n",
    "\n",
    "-- Tabella Requisiti\n",
    "CREATE TABLE Requisiti\n",
    "(\n",
    "    id_requisito     INTEGER PRIMARY KEY AUTO_INCREMENT, -- Chiave primaria autoincrementata per la tabella Requisiti\n",
    "    id_arma          INTEGER     NOT NULL,               -- Riferimento all'arma\n",
    "    id_attributo     VARCHAR(50) NOT NULL,               -- Riferimento all'attributo per il requisito\n",
    "    valore_richiesto INTEGER     NOT NULL,               -- Valore richiesto dell'attributo\n",
    "    FOREIGN KEY (id_arma)\n",
    "        REFERENCES Armi (id_arma),                       -- Vincolo per la relazione con Armi\n",
    "    FOREIGN KEY (id_attributo)\n",
    "        REFERENCES Attributi (id_attributo)              -- Vincolo per la relazione con Attributi\n",
    ");\n",
    "\n",
    "-- Tabella Utenti\n",
    "CREATE TABLE Utenti\n",
    "  (\n",
    "      Email    VARCHAR(254) PRIMARY KEY,\n",
    "      Nickname VARCHAR(20) NOT NULL UNIQUE,\n",
    "      Sesso    ENUM ('M', 'F') DEFAULT 'M',\n",
    "      Password TEXT        NOT NULL\n",
    "  );\n",
    "```"
   ],
   "id": "c777ec87019d63b8"
  },
  {
   "metadata": {},
   "cell_type": "markdown",
   "source": "---",
   "id": "5a51c30c88f1e0ea"
  },
  {
   "metadata": {},
   "cell_type": "markdown",
   "source": "### Considerazioni Tecniche",
   "id": "e185cc7a8c42a1bd"
  },
  {
   "metadata": {},
   "cell_type": "markdown",
   "source": [
    "- **Ottimizzazione del Database:**\n",
    "  - Utilizzare chiavi esterne e indici per migliorare le prestazioni.\n",
    "- **Protezione:**\n",
    "  - Prevenire SQL injection utilizzando query preparate.\n",
    "- **Espandibilità:**\n",
    "  - Struttura modulare per aggiungere nuove funzionalità."
   ],
   "id": "4e221a48bf53ef11"
  }
 ],
 "metadata": {
  "kernelspec": {
   "display_name": "Python 3",
   "language": "python",
   "name": "python3"
  },
  "language_info": {
   "codemirror_mode": {
    "name": "ipython",
    "version": 2
   },
   "file_extension": ".py",
   "mimetype": "text/x-python",
   "name": "python",
   "nbconvert_exporter": "python",
   "pygments_lexer": "ipython2",
   "version": "2.7.6"
  }
 },
 "nbformat": 4,
 "nbformat_minor": 5
}
